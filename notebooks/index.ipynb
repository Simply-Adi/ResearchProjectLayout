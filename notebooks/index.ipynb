{
 "cells": [
  {
   "cell_type": "markdown",
   "metadata": {},
   "source": [
    "#  Processing/plotting code"
   ]
  },
  {
   "cell_type": "markdown",
   "metadata": {},
   "source": [
    "### Processing\n",
    " - [LLC velocity gradient and spectra](./LLCProcessing.ipynb)\n",
    "\n",
    "### Figures\n",
    " - [Figure 1](./Figure1.ipynb)\n",
    " - [Figure 2](./Figure2.ipynb)\n",
    " - [Figure 3](./Figure3.ipynb)\n",
    " - [Figure 4+](./Figure4.ipynb)\n",
    " \n",
    "Figure files are available [here](../writeup/figs/)."
   ]
  },
  {
   "cell_type": "code",
   "execution_count": null,
   "metadata": {
    "collapsed": true
   },
   "outputs": [],
   "source": []
  }
 ],
 "metadata": {
  "kernelspec": {
   "display_name": "Python 3",
   "language": "python",
   "name": "python3"
  },
  "language_info": {
   "codemirror_mode": {
    "name": "ipython",
    "version": 3
   },
   "file_extension": ".py",
   "mimetype": "text/x-python",
   "name": "python",
   "nbconvert_exporter": "python",
   "pygments_lexer": "ipython3",
   "version": "3.5.2"
  }
 },
 "nbformat": 4,
 "nbformat_minor": 0
}
