{
 "cells": [
  {
   "cell_type": "code",
   "execution_count": 1,
   "metadata": {
    "collapsed": true
   },
   "outputs": [],
   "source": [
    "__depends__ = [\"../outputs/eta_anomaly_var_wavenumber_freq_october.npz\",\n",
    "               \"../outputs/eta_anomaly_var_wavenumber_freq_april.npz\",\n",
    "               \"../outputs/eta_anomaly_var_wavenumber_freq_all.npz\",\n",
    "               \"../outputs/eta_anomaly_var_wavenumber_freq_4320_october.npz\",\n",
    "               \"../outputs/eta_anomaly_var_wavenumber_freq_4320_april.npz\",\n",
    "               \"../outputs/ke__wavenumber_freq_4320_october.npz\",\n",
    "               \"../outputs/ke__wavenumber_freq_4320_april.npz\",\n",
    "               \"../outputs/ke__wavenumber_freq_4320_all.npz\",\n",
    "               \"../WOA/radii_min.npz\",\n",
    "                \"../WOA/radii_max.npz\",\n",
    "               \"../WOA/radii.npz\"]\n",
    "__dest__ = ['../writeup/figs/fig4.pdf']"
   ]
  },
  {
   "cell_type": "code",
   "execution_count": 2,
   "metadata": {
    "collapsed": true
   },
   "outputs": [],
   "source": [
    "__figpath__ = 'figs/'"
   ]
  },
  {
   "cell_type": "markdown",
   "metadata": {},
   "source": [
    "# Plots wavenumber-frequency KE and SSH variance spectra"
   ]
  },
  {
   "cell_type": "code",
   "execution_count": 3,
   "metadata": {
    "collapsed": false
   },
   "outputs": [],
   "source": [
    "import numpy as np\n",
    "import matplotlib.pyplot as plt\n",
    "from matplotlib.colors import LogNorm\n",
    "from matplotlib.mlab import bivariate_normal\n",
    "\n",
    "import cmocean\n",
    "import seawater as sw\n",
    "\n",
    "from pyspec import spectrum\n",
    "\n",
    "%matplotlib inline"
   ]
  },
  {
   "cell_type": "code",
   "execution_count": 4,
   "metadata": {
    "collapsed": false
   },
   "outputs": [],
   "source": [
    "speco = np.load(__depends__[0])\n",
    "speca = np.load(__depends__[1])\n",
    "spec = np.load(__depends__[2])\n",
    "speco4320 = np.load(__depends__[3])\n",
    "speca4320 = np.load(__depends__[4])\n",
    "kespeco4320 = np.load(__depends__[5])\n",
    "kespeca4320 = np.load(__depends__[6])\n",
    "kespec4320 = np.load(__depends__[7])\n",
    "radii = np.load(__depends__[-1])['radii']\n",
    "radii_min = np.load(__depends__[-3])['radii']\n",
    "radii_max = np.load(__depends__[-2])['radii']"
   ]
  },
  {
   "cell_type": "code",
   "execution_count": 5,
   "metadata": {
    "collapsed": true
   },
   "outputs": [],
   "source": [
    "f,ki = speco['f'],spec['ki']\n",
    "Eetao = speco['iEeta']\n",
    "Eetaa = speca['iEeta']\n",
    "Eeta = spec['iEeta']"
   ]
  },
  {
   "cell_type": "code",
   "execution_count": 6,
   "metadata": {
    "collapsed": false
   },
   "outputs": [
    {
     "name": "stderr",
     "output_type": "stream",
     "text": [
      "/Users/crocha/anaconda3/lib/python3.5/site-packages/ipykernel/__main__.py:1: VisibleDeprecationWarning: using a non-integer number instead of an integer will result in an error in the future\n",
      "  if __name__ == '__main__':\n"
     ]
    }
   ],
   "source": [
    "f, Eetao, Eetaa, Eeta = f[1:f.size/2], Eetao[:,1:f.size/2],Eetaa[:,1:f.size/2], Eeta[:,1:f.size/2]"
   ]
  },
  {
   "cell_type": "code",
   "execution_count": 7,
   "metadata": {
    "collapsed": false
   },
   "outputs": [],
   "source": [
    "f0 = sw.f(32.5)\n",
    "fmin, fmax = sw.f(20), sw.f(40.)\n",
    "\n",
    "\n",
    "#f0 = sw.f(32.69)\n",
    "N2 = (276.32*f0)**2\n",
    "\n",
    "m = (1./150)\n",
    "m2 = (1./500)\n",
    "m3 = (1./550)\n",
    "m4 = (1./1500)\n",
    "\n",
    "k = np.logspace(-3,-1,100)\n",
    "\n",
    "omg = np.sqrt(f0**2 + N2*((k/m)**2))*3600/2/np.pi\n",
    "omg2 = np.sqrt(f0**2 + N2*((k/m2)**2))*3600/2/np.pi\n",
    "omg3 = np.sqrt(f0**2 + N2*((k/m3)**2))*3600/2/np.pi\n",
    "omg4 = np.sqrt(f0**2 + N2*((k/m4)**2))*3600/2/np.pi\n",
    "\n",
    "rd1 = 2*np.pi*radii[0]\n",
    "rd2 = 2*np.pi*radii[1]\n",
    "rd3 = 2*np.pi*radii[2]\n",
    "rd4 = 2*np.pi*radii[3]\n",
    "rd5 = 2*np.pi*radii[4]\n",
    "\n",
    "rd1_min = 2*np.pi*radii_min[0]\n",
    "rd4_min = 2*np.pi*radii_min[3]\n",
    "rd1_max = 2*np.pi*radii_max[0]\n",
    "rd4_max = 2*np.pi*radii_max[3]\n",
    "\n",
    "rd0 = 2000  #  external deformation radius (km)\n",
    "omg_0 = f0*np.sqrt(1 + (k*rd0)**2)*3600/2/np.pi\n",
    "\n",
    "omg_1 = f0*np.sqrt(1 + (k*rd1)**2)*3600/2/np.pi\n",
    "omg_2 = f0*np.sqrt(1 + (k*rd2)**2)*3600/2/np.pi\n",
    "omg_3 = f0*np.sqrt(1 + (k*rd3)**2)*3600/2/np.pi\n",
    "omg_4 = f0*np.sqrt(1 + (k*rd4)**2)*3600/2/np.pi\n",
    "omg_5 = f0*np.sqrt(1 + (k*rd5)**2)*3600/2/np.pi\n",
    "\n",
    "omg_1_min = fmin*np.sqrt(1 + (k*rd1_min)**2)*3600/2/np.pi\n",
    "omg_4_min = fmin*np.sqrt(1 + (k*rd4_min)**2)*3600/2/np.pi\n",
    "\n",
    "omg_1_max = fmax*np.sqrt(1 + (k*rd1_max)**2)*3600/2/np.pi\n",
    "omg_4_max = fmax*np.sqrt(1 + (k*rd4_max)**2)*3600/2/np.pi\n",
    "\n",
    "m2 = 1./12.4\n",
    "f0 = f0*3600/(2*np.pi)\n",
    "fmin = fmax*3600/(2*np.pi)\n",
    "fmax = fmin*3600/(2*np.pi)"
   ]
  },
  {
   "cell_type": "code",
   "execution_count": 8,
   "metadata": {
    "collapsed": true
   },
   "outputs": [],
   "source": [
    "RatioEeta = Eetao.T/Eetaa.T\n",
    "RatioEeta = np.ma.masked_array(RatioEeta,Eetao.T<1.e-2)"
   ]
  },
  {
   "cell_type": "code",
   "execution_count": 9,
   "metadata": {
    "collapsed": false
   },
   "outputs": [],
   "source": [
    "def plt_freqs():\n",
    "    plt.fill_between(k, omg_4_min, omg_1_max, facecolor='.5',alpha=.35)\n",
    "    plt.text(1./150,.425,r'mode 1, 40$^\\circ$N',fontsize=11,rotation=34.5)\n",
    "    plt.text(1./30,.285,r'mode 4, 20$^\\circ$N',fontsize=11,rotation=36)\n",
    "    plt.plot([1.e-3,1.e-1],[f0,f0],'k--')\n",
    "    plt.plot([1.e-3,1.e-1],[m2,m2],'k--')\n",
    "    plt.plot([1.e-3,1.e-1],[2*f0,2*f0],'k--')\n",
    "    plt.text(1/15.,.75*m2,'M$_2$',fontsize=14)\n",
    "    plt.text(1/16.5,.75*f0,'f$_{32.5}$',fontsize=14)\n",
    "    plt.text(1./550,2.1*f0,'2f$_{32.5}$',fontsize=14)"
   ]
  },
  {
   "cell_type": "markdown",
   "metadata": {},
   "source": [
    "# SSH variance"
   ]
  },
  {
   "cell_type": "code",
   "execution_count": 19,
   "metadata": {
    "collapsed": false
   },
   "outputs": [
    {
     "data": {
      "image/png": "[encoded data removed]",
      "text/plain": [
       "<matplotlib.figure.Figure at 0x1127c7eb8>"
      ]
     },
     "metadata": {},
     "output_type": "display_data"
    }
   ],
   "source": [
    "vmin, vmax = 1.e-2, 1.e2\n",
    "\n",
    "fig = plt.figure(figsize=(20,4))\n",
    "\n",
    "ax = plt.subplot(131)\n",
    "plt.pcolormesh(ki,f,Eetaa.T,norm=LogNorm(vmin=vmin,vmax=vmax),cmap=cmocean.cm.ice_r)\n",
    "ax.set_xscale(\"log\", nonposx='clip')\n",
    "ax.set_yscale(\"log\", nonposx='clip')\n",
    "plt.xlabel(\"Horizontal wavenumber [cpkm]\")\n",
    "plt.ylabel(\"Frequency [cph]\")\n",
    "plt_freqs()\n",
    "plt.xlim(1.e-3,1/5./2.)\n",
    "plt.ylim(0,.5)\n",
    "plt.text(1.1e-3,.6,'(a)',fontsize=14)\n",
    "plt.text(1/800,.35,'April',color='k',fontsize=16)\n",
    "\n",
    "ax = plt.subplot(132)\n",
    "cdensity = plt.pcolormesh(ki,f,Eetao.T,norm=LogNorm(vmin=vmin,vmax=vmax),cmap=cmocean.cm.ice_r)\n",
    "ax.set_xscale(\"log\", nonposx='clip')\n",
    "ax.set_yscale(\"log\", nonposx='clip')\n",
    "plt.xlabel(\"Horizontal wavenumber [cpkm]\")\n",
    "plt_freqs()\n",
    "\n",
    "plt.xlim(1.e-3,1/5./2)\n",
    "plt.ylim(0,.5)\n",
    "plt.yticks([])\n",
    "plt.text(1/800,.35,'October',color='k',fontsize=16)\n",
    "plt.text(1.1e-3,.6,'(b)',fontsize=14)\n",
    "\n",
    "ax = plt.subplot(133)\n",
    "cratio = plt.pcolormesh(ki,f,RatioEeta,norm=LogNorm(vmin=.1,vmax=10),cmap=cmocean.cm.balance)\n",
    "plt_freqs()\n",
    "plt.text(1.1e-3,.6,'(c)',fontsize=14)\n",
    "\n",
    "ax.set_xscale(\"log\", nonposx='clip')\n",
    "ax.set_yscale(\"log\", nonposx='clip')\n",
    "plt.xlim(1.e-3,1/5./2)\n",
    "plt.ylim(0,.5)\n",
    "plt.xlabel(\"Horizontal wavenumber [cpkm]\")\n",
    "plt.yticks([])\n",
    "\n",
    "fig.subplots_adjust(right=0.8)\n",
    "cbar_ax = fig.add_axes([0.625, 1.13, 0.15, 0.04])\n",
    "fig.colorbar(cratio, cax=cbar_ax,label=r'Ratio October/April',orientation='horizontal')\n",
    "\n",
    "fig.subplots_adjust(right=0.8)\n",
    "cbar_ax = fig.add_axes([0.225, 1.13, 0.25, 0.04])\n",
    "fig.colorbar(cdensity, cax=cbar_ax,label=r'SSH variance density [m$^2$/(cpkm $\\times$ cph)]'\n",
    "             ,extend='both',orientation='horizontal')\n",
    "\n",
    "plt.savefig(__dest__[0],dpi=100,bbox_inches='tight')"
   ]
  },
  {
   "cell_type": "code",
   "execution_count": null,
   "metadata": {
    "collapsed": false
   },
   "outputs": [],
   "source": [
    "fig = plt.figure(figsize=(6.5,5.5))\n",
    "ax = plt.subplot(111)\n",
    "cratio = plt.pcolormesh(ki,f,Eeta.T,norm=LogNorm(vmin=vmin,vmax=vmax),cmap=cmocean.cm.ice_r)\n",
    "plt.plot(k,omg_1,'k')\n",
    "plt.plot(k,omg_4,'k')\n",
    "plt.text(1./38,.385,r'mode 1',fontsize=14,rotation=37.5)\n",
    "plt.text(1./23,.17,r'mode 4',fontsize=14,rotation=42)\n",
    "plt.plot([1.e-3,1.e-1],[f0,f0],'k--')\n",
    "plt.plot([1.e-3,1.e-1],[m2,m2],'k--')\n",
    "plt.plot([1.e-3,1.e-1],[2*f0,2*f0],'k--')\n",
    "plt.text(1/15.,.75*m2,'M$_2$',fontsize=14)\n",
    "plt.text(1/14.5,.75*f0,'f$_0$',fontsize=14)\n",
    "plt.text(1./350,2.1*f0,'2f$_0$',fontsize=14)\n",
    "ax.set_xscale(\"log\", nonposx='clip')\n",
    "ax.set_yscale(\"log\", nonposx='clip')\n",
    "plt.xlim(1.e-3,1/5./2)\n",
    "plt.ylim(0,.5)\n",
    "plt.xlabel(\"Horizontal wavenumber [cpkm]\")\n",
    "plt.ylabel(\"Frequency [cph]\")\n",
    "\n",
    "fig.subplots_adjust(right=0.8)\n",
    "cbar_ax = fig.add_axes([0.84, .16, 0.02, 0.7])\n",
    "fig.colorbar(cratio, cax=cbar_ax,label=r'SSH variance density [m$^2$/(cpkm $\\times$ cph)]')\n",
    "plt.savefig(__figpath__+\"SSHVariance_Wavenumber-Frequency_Spectrum_TimeAveraged.pdf\",dpi=100,bbox_inches='tight')"
   ]
  },
  {
   "cell_type": "code",
   "execution_count": null,
   "metadata": {
    "collapsed": false
   },
   "outputs": [],
   "source": [
    "# plot the frame for schematics...\n",
    "fig = plt.figure(figsize=(6.5,5.5))\n",
    "ax = plt.subplot(111)\n",
    "#plt.plot(k,omg_3,'k')\n",
    "ax.set_xscale(\"log\", nonposx='clip')\n",
    "ax.set_yscale(\"log\", nonposx='clip')\n",
    "plt.xlim(1.e-3,1/5./2)\n",
    "plt.ylim(5.e-3,.5)\n",
    "plt.fill_between(k, omg_4, omg_1, facecolor='b',alpha=.15)\n",
    "f0, m2 = 1/22.,1./12.4\n",
    "Ld = 2*np.pi*30.\n",
    "plt.yticks([0.2*f0,f0,m2,5*m2],[r\"0.2 f$_0$\",r\"f$_0$     \",r\"M$_2$    \", r\"5 M$_2$  \"])\n",
    "plt.xticks([1/Ld/5,1./Ld,1/Ld/0.25,1/Ld/.1],[\"5 L\",\"L\",\"0.25 L\",\"0.1 L\"])\n",
    "plt.xlabel(\"Wavelength \")\n",
    "plt.ylabel(\"Frequency \")\n",
    "\n",
    "plt.text(.825e-3,1./4,\"Super-inertial\",rotation=\"vertical\",\n",
    "         fontsize=14,color='blue',alpha=.7)\n",
    "plt.text(.825e-3,1./30,\"Sub-inertial\",rotation=\"vertical\",\n",
    "         fontsize=14,color='red',alpha=.7)\n",
    "\n",
    "plt.savefig(__figpath__+\"SSHVariance_Wavenumber-Frequency_Spectrum_frame.pdf\",dpi=100,bbox_inches='tight')"
   ]
  },
  {
   "cell_type": "markdown",
   "metadata": {},
   "source": [
    "## LLC4320, 1/48$^\\circ$"
   ]
  },
  {
   "cell_type": "code",
   "execution_count": null,
   "metadata": {
    "collapsed": true
   },
   "outputs": [],
   "source": [
    "f4320,ki4320 = speco4320['f'],speco4320['ki']\n",
    "Eetao4320 = speco4320['iEeta']\n",
    "Eetaa4320 = speca4320['iEeta']"
   ]
  },
  {
   "cell_type": "code",
   "execution_count": null,
   "metadata": {
    "collapsed": false
   },
   "outputs": [],
   "source": [
    "f4320, Eetao4320, Eetaa4320 = f4320[1:f4320.size/2], Eetao4320[:,1:f4320.size/2],Eetaa4320[:,1:f4320.size/2]"
   ]
  },
  {
   "cell_type": "code",
   "execution_count": null,
   "metadata": {
    "collapsed": true
   },
   "outputs": [],
   "source": [
    "RatioEeta4320 = Eetao4320.T/Eetaa4320.T\n",
    "RatioEeta4320 = np.ma.masked_array(RatioEeta4320,Eetao4320.T<1.e-2)"
   ]
  },
  {
   "cell_type": "code",
   "execution_count": null,
   "metadata": {
    "collapsed": false
   },
   "outputs": [],
   "source": [
    "vmin, vmax = 1.e-2, 1.e2\n",
    "\n",
    "fig = plt.figure(figsize=(20,4))\n",
    "\n",
    "ax = plt.subplot(131)\n",
    "plt.pcolormesh(ki4320,f4320,Eetaa4320.T,norm=LogNorm(vmin=vmin,vmax=vmax),cmap=cmocean.cm.ice_r)\n",
    "ax.set_xscale(\"log\", nonposx='clip')\n",
    "ax.set_yscale(\"log\", nonposx='clip')\n",
    "plt.xlabel(\"Horizontal wavenumber [cpkm]\")\n",
    "plt.ylabel(\"Frequency [cph]\")\n",
    "plt_freqs()\n",
    "plt.xlim(1.e-3,1/5./2.)\n",
    "plt.ylim(0,.5)\n",
    "\n",
    "plt.text(1/800,.35,'April',color='k',fontsize=16)\n",
    "\n",
    "ax = plt.subplot(132)\n",
    "cdensity = plt.pcolormesh(ki4320,f4320,Eetao4320.T,norm=LogNorm(vmin=vmin,vmax=vmax),cmap=cmocean.cm.ice_r)\n",
    "ax.set_xscale(\"log\", nonposx='clip')\n",
    "ax.set_yscale(\"log\", nonposx='clip')\n",
    "plt.xlabel(\"Horizontal wavenumber [cpkm]\")\n",
    "plt_freqs()\n",
    "\n",
    "plt.xlim(1.e-3,1/5./2)\n",
    "plt.ylim(0,.5)\n",
    "plt.yticks([])\n",
    "plt.text(1/800,.35,'October',color='k',fontsize=16)\n",
    "\n",
    "ax = plt.subplot(133)\n",
    "cratio = plt.pcolormesh(ki4320,f4320,RatioEeta4320,norm=LogNorm(vmin=.1,vmax=10),cmap=cmocean.cm.balance)\n",
    "plt_freqs()\n",
    "    \n",
    "ax.set_xscale(\"log\", nonposx='clip')\n",
    "ax.set_yscale(\"log\", nonposx='clip')\n",
    "plt.xlim(1.e-3,1/5./2)\n",
    "plt.ylim(0,.5)\n",
    "plt.xlabel(\"Horizontal wavenumber [cpkm]\")\n",
    "plt.yticks([])\n",
    "\n",
    "fig.subplots_adjust(right=0.8)\n",
    "cbar_ax = fig.add_axes([0.625, 1.1, 0.15, 0.04])\n",
    "fig.colorbar(cratio, cax=cbar_ax,label=r'Ratio October/April',orientation='horizontal')\n",
    "\n",
    "fig.subplots_adjust(right=0.8)\n",
    "cbar_ax = fig.add_axes([0.225, 1.1, 0.25, 0.04])\n",
    "fig.colorbar(cdensity, cax=cbar_ax,label=r'SSH variance density [m$^2$/(cpkm $\\times$ cph)]'\n",
    "             ,extend='both',orientation='horizontal')\n",
    "#plt.savefig(__figpath__+\"SSHVariance_Wavenumber-Frequency_Spectrum_4320_Seasonal.pdf\",dpi=100,bbox_inches='tight')"
   ]
  },
  {
   "cell_type": "code",
   "execution_count": null,
   "metadata": {
    "collapsed": false
   },
   "outputs": [],
   "source": [
    "fig = plt.figure(figsize=(6.5,5.5))\n",
    "ax = plt.subplot(111)\n",
    "cratio = plt.pcolormesh(ki4320,f4320,Eetao4320.T,norm=LogNorm(vmin=vmin,vmax=vmax),cmap=cmocean.cm.ice_r)\n",
    "plt.fill_between(k, omg_4_min, omg_1_max, facecolor='.5',alpha=.25)\n",
    "plt.text(1./135,.425,r'mode 1, 40$^\\circ$N',fontsize=11,rotation=40)\n",
    "plt.text(1./26,.285,r'mode 4, 20$^\\circ$N',fontsize=11,rotation=40)\n",
    "plt.plot([1.e-3,1.e-1],[f0,f0],'k--')\n",
    "plt.plot([1.e-3,1.e-1],[m2,m2],'k--')\n",
    "plt.plot([1.e-3,1.e-1],[2*f0,2*f0],'k--')\n",
    "plt.text(1/15.,.75*m2,'M$_2$',fontsize=14)\n",
    "plt.text(1/16.5,.75*f0,'f$_{32.5}$',fontsize=14)\n",
    "plt.text(1./550,2.1*f0,'2f$_{32.5}$',fontsize=14)\n",
    "ax.set_xscale(\"log\", nonposx='clip')\n",
    "ax.set_yscale(\"log\", nonposx='clip')\n",
    "plt.xlim(1.e-3,1/5./2)\n",
    "plt.ylim(0,.5)\n",
    "plt.xlabel(\"Horizontal wavenumber [cpkm]\")\n",
    "plt.ylabel(\"Frequency [cph]\")\n",
    "plt.text(1/800,.35,'October',color='k',fontsize=16)\n",
    "\n",
    "fig.subplots_adjust(right=0.8)\n",
    "cbar_ax = fig.add_axes([0.84, .16, 0.02, 0.7])\n",
    "fig.colorbar(cratio, cax=cbar_ax,label=r'SSH variance density [m$^2$/(cpkm $\\times$ cph)]')\n",
    "plt.savefig(__figpath__+\"SSHVariance_Wavenumber-Frequency_Spectrum_4320_October.pdf\",dpi=100,bbox_inches='tight')"
   ]
  },
  {
   "cell_type": "code",
   "execution_count": null,
   "metadata": {
    "collapsed": false
   },
   "outputs": [],
   "source": [
    "fig = plt.figure(figsize=(6.5,5.5))\n",
    "ax = plt.subplot(111)\n",
    "cratio = plt.pcolormesh(ki4320,f4320,Eetaa4320.T,norm=LogNorm(vmin=vmin,vmax=vmax),cmap=cmocean.cm.ice_r)\n",
    "plt.fill_between(k, omg_4_min, omg_1_max, facecolor='.5',alpha=.25)\n",
    "plt.text(1./135,.425,r'mode 1, 40$^\\circ$N',fontsize=11,rotation=40)\n",
    "plt.text(1./26,.285,r'mode 4, 20$^\\circ$N',fontsize=11,rotation=40)\n",
    "plt.plot([1.e-3,1.e-1],[f0,f0],'k--')\n",
    "plt.plot([1.e-3,1.e-1],[m2,m2],'k--')\n",
    "plt.plot([1.e-3,1.e-1],[2*f0,2*f0],'k--')\n",
    "plt.text(1/15.,.75*m2,'M$_2$',fontsize=14)\n",
    "plt.text(1/16.5,.75*f0,'f$_{32.5}$',fontsize=14)\n",
    "plt.text(1./550,2.1*f0,'2f$_{32.5}$',fontsize=14)\n",
    "ax.set_xscale(\"log\", nonposx='clip')\n",
    "ax.set_yscale(\"log\", nonposx='clip')\n",
    "plt.xlim(1.e-3,1/5./2)\n",
    "plt.ylim(0,.5)\n",
    "plt.xlabel(\"Horizontal wavenumber [cpkm]\")\n",
    "plt.ylabel(\"Frequency [cph]\")\n",
    "plt.text(1/800,.35,'April',color='k',fontsize=16)\n",
    "\n",
    "fig.subplots_adjust(right=0.8)\n",
    "cbar_ax = fig.add_axes([0.84, .16, 0.02, 0.7])\n",
    "fig.colorbar(cratio, cax=cbar_ax,label=r'SSH variance density [m$^2$/(cpkm $\\times$ cph)]')\n",
    "plt.savefig(__figpath__+\"SSHVariance_Wavenumber-Frequency_Spectrum_4320_April.pdf\",dpi=100,bbox_inches='tight')"
   ]
  },
  {
   "cell_type": "code",
   "execution_count": null,
   "metadata": {
    "collapsed": false
   },
   "outputs": [],
   "source": [
    "fig = plt.figure(figsize=(6.5,5.5))\n",
    "ax = plt.subplot(111)\n",
    "cratio = plt.pcolormesh(ki4320,f4320,RatioEeta4320,norm=LogNorm(vmin=.1,vmax=10),cmap=cmocean.cm.balance)\n",
    "plt.fill_between(k, omg_4_min, omg_1_max, facecolor='.5',alpha=.25)\n",
    "plt.text(1./135,.425,r'mode 1, 40$^\\circ$N',fontsize=11,rotation=40)\n",
    "plt.text(1./26,.285,r'mode 4, 20$^\\circ$N',fontsize=11,rotation=40)\n",
    "plt.plot([1.e-3,1.e-1],[f0,f0],'k--')\n",
    "plt.plot([1.e-3,1.e-1],[m2,m2],'k--')\n",
    "plt.plot([1.e-3,1.e-1],[2*f0,2*f0],'k--')\n",
    "plt.text(1/15.,.75*m2,'M$_2$',fontsize=14)\n",
    "plt.text(1/16.5,.75*f0,'f$_{32.5}$',fontsize=14)\n",
    "plt.text(1./550,2.1*f0,'2f$_{32.5}$',fontsize=14)\n",
    "ax.set_xscale(\"log\", nonposx='clip')\n",
    "ax.set_yscale(\"log\", nonposx='clip')\n",
    "plt.xlim(1.e-3,1/5./2)\n",
    "plt.ylim(0,.5)\n",
    "plt.xlabel(\"Horizontal wavenumber [cpkm]\")\n",
    "plt.ylabel(\"Frequency [cph]\")\n",
    "plt.text(1/800,.35,'',color='k',fontsize=16)\n",
    "\n",
    "fig.subplots_adjust(right=0.8)\n",
    "cbar_ax = fig.add_axes([0.84, .16, 0.02, 0.7])\n",
    "fig.colorbar(cratio, cax=cbar_ax,label=r'Ratio October/April')\n",
    "\n",
    "plt.savefig(__figpath__+\"SSHVariance_Wavenumber-Frequency_Spectrum_4320_Ratio.pdf\",dpi=100,bbox_inches='tight')"
   ]
  },
  {
   "cell_type": "markdown",
   "metadata": {
    "collapsed": true
   },
   "source": [
    "# KE"
   ]
  },
  {
   "cell_type": "markdown",
   "metadata": {},
   "source": [
    "## LLC4320, 1/48$^\\circ$"
   ]
  },
  {
   "cell_type": "code",
   "execution_count": null,
   "metadata": {
    "collapsed": false
   },
   "outputs": [],
   "source": [
    "f4320,ki4320 = kespeco4320['f'],kespeco4320['ki']\n",
    "Eo4320 = kespeco4320['iE']\n",
    "Ea4320 = kespeca4320['iE']\n",
    "E4320 = kespec4320['iE']"
   ]
  },
  {
   "cell_type": "code",
   "execution_count": null,
   "metadata": {
    "collapsed": false
   },
   "outputs": [],
   "source": [
    "f4320, Eo4320, Ea4320, E4320 = f4320[1:f4320.size/2], Eo4320[:,1:f4320.size/2],Ea4320[:,1:f4320.size/2], E4320[:,1:f4320.size/2]"
   ]
  },
  {
   "cell_type": "code",
   "execution_count": null,
   "metadata": {
    "collapsed": true
   },
   "outputs": [],
   "source": [
    "vmin, vmax = 1e-1, 1.e4"
   ]
  },
  {
   "cell_type": "code",
   "execution_count": null,
   "metadata": {
    "collapsed": true
   },
   "outputs": [],
   "source": [
    "label_KEspec = r'KE density [(m$^2$ s$^{-2}$)/(cpkm $\\times$ cph)]'"
   ]
  },
  {
   "cell_type": "code",
   "execution_count": null,
   "metadata": {
    "collapsed": false
   },
   "outputs": [],
   "source": [
    "fig = plt.figure(figsize=(6.5,5.5))\n",
    "ax = plt.subplot(111)\n",
    "cratio = plt.pcolormesh(ki4320,f4320,E4320.T,norm=LogNorm(vmin=vmin,vmax=vmax),cmap=cmocean.cm.ice_r)\n",
    "\n",
    "plt.fill_between(k, omg_4_min, omg_1_max, facecolor='.5',alpha=.35)\n",
    "plt.text(1./135,.425,r'mode 1, 40$^\\circ$N',fontsize=11,rotation=40)\n",
    "plt.text(1./26,.285,r'mode 4, 20$^\\circ$N',fontsize=11,rotation=40)\n",
    "plt.plot([1.e-3,1.e-1],[f0,f0],'k--')\n",
    "plt.plot([1.e-3,1.e-1],[m2,m2],'k--')\n",
    "plt.plot([1.e-3,1.e-1],[2*f0,2*f0],'k--')\n",
    "plt.text(1/15.,.75*m2,'M$_2$',fontsize=14)\n",
    "plt.text(1/16.5,.75*f0,'f$_{32.5}$',fontsize=14)\n",
    "plt.text(1./550,2.1*f0,'2f$_{32.5}$',fontsize=14)\n",
    "\n",
    "\n",
    "ax.set_xscale(\"log\", nonposx='clip')\n",
    "ax.set_yscale(\"log\", nonposx='clip')\n",
    "plt.xlim(1.e-3,1/5./2)\n",
    "plt.ylim(0,.5)\n",
    "plt.xlabel(\"Horizontal wavenumber [cpkm]\")\n",
    "plt.ylabel(\"Frequency [cph]\")\n",
    "\n",
    "plt.text(1.2e-3,.575,'(a)',fontsize=14)\n",
    "\n",
    "fig.subplots_adjust(right=0.8)\n",
    "cbar_ax = fig.add_axes([0.84, .16, 0.02, 0.7])\n",
    "fig.colorbar(cratio, cax=cbar_ax,label=label_KEspec)\n",
    "plt.savefig(__figpath__+\"KE_Wavenumber-Frequency_Spectrum_4320.pdf\",dpi=100,bbox_inches='tight')"
   ]
  },
  {
   "cell_type": "code",
   "execution_count": null,
   "metadata": {
    "collapsed": false
   },
   "outputs": [],
   "source": [
    "fig = plt.figure(figsize=(6.5,5.5))\n",
    "ax = plt.subplot(111)\n",
    "cratio = plt.pcolormesh(ki4320,f4320,Ea4320.T,norm=LogNorm(vmin=vmin,vmax=vmax),cmap=cmocean.cm.ice_r)\n",
    "\n",
    "plt.fill_between(k, omg_4_min, omg_1_max, facecolor='.5',alpha=.35)\n",
    "plt.text(1./135,.425,r'mode 1, 40$^\\circ$N',fontsize=11,rotation=40)\n",
    "plt.text(1./26,.285,r'mode 4, 20$^\\circ$N',fontsize=11,rotation=40)\n",
    "plt.plot([1.e-3,1.e-1],[f0,f0],'k--')\n",
    "plt.plot([1.e-3,1.e-1],[m2,m2],'k--')\n",
    "plt.plot([1.e-3,1.e-1],[2*f0,2*f0],'k--')\n",
    "plt.text(1/15.,.75*m2,'M$_2$',fontsize=14)\n",
    "plt.text(1/16.5,.75*f0,'f$_{32.5}$',fontsize=14)\n",
    "plt.text(1./550,2.1*f0,'2f$_{32.5}$',fontsize=14)\n",
    "plt.text(1/800,.35,'October',color='k',fontsize=16)\n",
    "\n",
    "\n",
    "ax.set_xscale(\"log\", nonposx='clip')\n",
    "ax.set_yscale(\"log\", nonposx='clip')\n",
    "plt.xlim(1.e-3,1/5./2)\n",
    "plt.ylim(0,.5)\n",
    "plt.xlabel(\"Horizontal wavenumber [cpkm]\")\n",
    "plt.ylabel(\"Frequency [cph]\")\n",
    "\n",
    "fig.subplots_adjust(right=0.8)\n",
    "cbar_ax = fig.add_axes([0.84, .16, 0.02, 0.7])\n",
    "fig.colorbar(cratio, cax=cbar_ax,label=label_KEspec)\n",
    "#plt.savefig(__figpath__+\"KE_Wavenumber-Frequency_Spectrum_4320_april.pdf\",dpi=100,bbox_inches='tight')"
   ]
  },
  {
   "cell_type": "code",
   "execution_count": null,
   "metadata": {
    "collapsed": false
   },
   "outputs": [],
   "source": [
    "fig = plt.figure(figsize=(6.5,5.5))\n",
    "ax = plt.subplot(111)\n",
    "cratio = plt.pcolormesh(ki4320,f4320,Eo4320.T,norm=LogNorm(vmin=vmin,vmax=vmax),cmap=cmocean.cm.ice_r)\n",
    "\n",
    "plt.fill_between(k, omg_4_min, omg_1_max, facecolor='.5',alpha=.35)\n",
    "plt.text(1./135,.425,r'mode 1, 40$^\\circ$N',fontsize=11,rotation=40)\n",
    "plt.text(1./26,.285,r'mode 4, 20$^\\circ$N',fontsize=11,rotation=40)\n",
    "plt.plot([1.e-3,1.e-1],[f0,f0],'k--')\n",
    "plt.plot([1.e-3,1.e-1],[m2,m2],'k--')\n",
    "plt.plot([1.e-3,1.e-1],[2*f0,2*f0],'k--')\n",
    "plt.text(1/15.,.75*m2,'M$_2$',fontsize=14)\n",
    "plt.text(1/16.5,.75*f0,'f$_{32.5}$',fontsize=14)\n",
    "plt.text(1./550,2.1*f0,'2f$_{32.5}$',fontsize=14)\n",
    "plt.text(1/800,.35,'October',color='k',fontsize=16)\n",
    "\n",
    "ax.set_xscale(\"log\", nonposx='clip')\n",
    "ax.set_yscale(\"log\", nonposx='clip')\n",
    "plt.xlim(1.e-3,1/5./2)\n",
    "plt.ylim(0,.5)\n",
    "plt.xlabel(\"Horizontal wavenumber [cpkm]\")\n",
    "plt.ylabel(\"Frequency [cph]\")\n",
    "\n",
    "fig.subplots_adjust(right=0.8)\n",
    "cbar_ax = fig.add_axes([0.84, .16, 0.02, 0.7])\n",
    "fig.colorbar(cratio, cax=cbar_ax,label=label_KEspec)\n",
    "\n",
    "plt.savefig(__figpath__+\"KE_Wavenumber-Frequency_Spectrum_4320_october.pdf\",dpi=100,bbox_inches='tight')"
   ]
  },
  {
   "cell_type": "code",
   "execution_count": null,
   "metadata": {
    "collapsed": false
   },
   "outputs": [],
   "source": [
    "# integrate the spectrum\n"
   ]
  },
  {
   "cell_type": "code",
   "execution_count": null,
   "metadata": {
    "collapsed": false
   },
   "outputs": [],
   "source": [
    "dk, df = ki4320[1],f4320[1]\n",
    "\n",
    "ifsub = f4320<0.8*sw.f(32.5)*3600/2/np.pi\n",
    "iksub = ki4320<1/100.\n",
    "\n",
    "ke_k = E4320.sum(axis=1)*df\n",
    "ke_f = E4320.sum(axis=0)*dk\n",
    "\n",
    "\n",
    "ke_k_sub = E4320[:,ifsub].sum(axis=1)*df\n",
    "ke_k_super = E4320[:,~ifsub].sum(axis=1)*df\n",
    "\n",
    "\n",
    "\n",
    "ke_f_sub = E4320[iksub,:].sum(axis=0)*dk\n",
    "ke_f_super = E4320[~iksub,:].sum(axis=0)*dk"
   ]
  },
  {
   "cell_type": "code",
   "execution_count": null,
   "metadata": {
    "collapsed": false
   },
   "outputs": [],
   "source": [
    "N = 13*30/10  # number of spectral realizations for one-dimensional spectra at small scales (13 months of simulation...calculate spectral estimate every 10 days)"
   ]
  },
  {
   "cell_type": "code",
   "execution_count": null,
   "metadata": {
    "collapsed": false
   },
   "outputs": [],
   "source": [
    "Ns = np.ones_like(ki4320)*N\n",
    "Nf = np.ones_like(f4320)*N\n",
    "\n",
    "ke_k_s = np.ones_like(ki4320)*3.e-3\n",
    "ke_f_s = np.ones_like(f4320)*3.e-3\n",
    "\n",
    "Nf[1./f4320 > 24*3] = N/8\n",
    "Nf[(1./f4320 < 24*3) & (1./f4320 > 24*1)] = N/4\n",
    "Nf[(1./f4320 <= 24*1) & (1./f4320 > 24*.5)] = N/2\n",
    "Nf[(1./f4320 <= 24*.25) ] = 2*N\n",
    "\n",
    "Ns[1./ki4320 > 200] = N/8\n",
    "Ns[(1./ki4320 < 200) & (1./ki4320 > 100)] = N/4\n",
    "Ns[(1./ki4320 < 100) & (1./ki4320 > 50)] = N/2\n",
    "Ns[(1./ki4320 < 25)] = 2*N\n",
    "\n",
    "ke_k_l, ke_k_u = spectrum.spec_error(ke_k_s,sn=Ns)\n",
    "ke_f_l, ke_f_u = spectrum.spec_error(ke_f_s,sn=Nf)"
   ]
  },
  {
   "cell_type": "code",
   "execution_count": null,
   "metadata": {
    "collapsed": false
   },
   "outputs": [],
   "source": [
    "fig = plt.figure(figsize=(10,4))\n",
    "ax1 = fig.add_subplot(121)\n",
    "\n",
    "ax1.fill_between(ki4320,ke_k_l,ke_k_u,color='.5',alpha=.35)\n",
    "\n",
    "ax1.loglog(ki4320,2*ke_k,label='total',color='r',linewidth=3, alpha=.5) # multiply by 2 since we're just integrating half of the spec\n",
    "ax1.loglog(ki4320,2*ke_k_sub,label=r'$<0.8\\times f_{32.5}$',color='g',linewidth=3,alpha=.5)\n",
    "ax1.loglog(ki4320,2*ke_k_super,label=r'$>0.8\\times f_{32.5}$',color='b',linewidth=3,alpha=.5)\n",
    "ax1.set_yticks([1.e-3,1.e-1,1e1,1e3])\n",
    "\n",
    "ax1.set_xlim(1/1e3,1/6.)\n",
    "plt.legend(loc=(.025,.15))\n",
    "ax1.set_xlabel(\"Horizontal wavenumber [cpkm]\")\n",
    "ax1.set_ylabel(r\"KE density [m$^2$ s$^{-2}$/cpkm]\")\n",
    "ax1.text(1.15e-3,1.5e3,'(b)',fontsize=14)\n",
    "ax1.text(1.24e-3,2.5e-3,'95%',fontsize=14)\n",
    "fig.subplots_adjust(wspace=2.)\n",
    "\n",
    "\n",
    "ax1 = fig.add_subplot(122)\n",
    "ax1.fill_between(f4320,ke_f_l,ke_f_u,color='.5',alpha=.35)\n",
    "plt.loglog(f4320,2*ke_f,label='total',color='r',linewidth=3, alpha=.5)\n",
    "plt.loglog(f4320,2*ke_f_sub,label=r'$>$100 km',color='g',linewidth=3, alpha=.5)\n",
    "plt.loglog(f4320,2*ke_f_super,label=r'$<$100 km',color='b',linewidth=3, alpha=.5)\n",
    "ax1.set_xlim(4.e-3,1./2)\n",
    "ax1.set_ylim(1.e-3,2.5e2)\n",
    "ax1.set_yticks([1.e-3,1.e-1,1e1])\n",
    "ax1.set_ylabel(r\"KE density [m$^2$ s$^{-2}$/cph]\")\n",
    "ax1.set_xlabel(r\"Frequency [cph]\")\n",
    "plt.legend(loc=(.025,.15))\n",
    "ax1.text(4.65e-3,4e2,'(c)',fontsize=14)\n",
    "ax1.text(5.24e-3,2.5e-3,'95%',fontsize=14)\n",
    "plt.tight_layout()\n",
    "\n",
    "plt.savefig(__figpath__+\"KE_Wavenumber_and_Frequency_Spectra.pdf\",dpi=100,bbox_inches='tight')"
   ]
  },
  {
   "cell_type": "code",
   "execution_count": null,
   "metadata": {
    "collapsed": false
   },
   "outputs": [],
   "source": [
    "fig = plt.figure(figsize=(10,9))\n",
    "\n",
    "ax1 = plt.subplot2grid((3,3),(0,1),colspan=2)\n",
    "ax2 = plt.subplot2grid((3,3),(1,0),rowspan=2)\n",
    "ax3 = plt.subplot2grid((3,3),(1,1),rowspan=2, colspan=2)\n",
    "\n",
    "# ax1: pcolormesh wavenumber spectrum\n",
    "cp = plt.pcolormesh(ki4320,f4320,E4320.T,norm=LogNorm(vmin=vmin,vmax=vmax),cmap=cmocean.cm.ice_r)\n",
    "\n",
    "ax3.fill_between(k, omg_4_min, omg_1_max, facecolor='.5',alpha=.35)\n",
    "ax3.text(1./115,.425,r'mode 1, 40$^\\circ$N',fontsize=11,rotation=40)\n",
    "ax3.text(1./22,.285,r'mode 4, 20$^\\circ$N',fontsize=11,rotation=40)\n",
    "ax3.plot([1.e-3,1.e-1],[f0,f0],'k--')\n",
    "ax3.plot([1.e-3,1.e-1],[m2,m2],'k--')\n",
    "ax3.plot([1.e-3,1.e-1],[2*f0,2*f0],'k--') \n",
    "ax3.text(1/15.,.75*m2,'M$_2$',fontsize=14)\n",
    "ax3.text(1/16.5,.75*f0,'f$_{32.5}$',fontsize=14)\n",
    "ax3.text(1./550,2.1*f0,'2f$_{32.5}$',fontsize=14)\n",
    "ax3.set_xscale(\"log\", nonposx='clip')\n",
    "ax3.set_yscale(\"log\", nonposx='clip')\n",
    "ax3.set_xlim(1.e-3,1/5./2)\n",
    "ax3.set_ylim(0,.5)\n",
    "ax3.set_yticks([])\n",
    "ax3.set_xticks([])\n",
    "fig.subplots_adjust(right=0.8)\n",
    "cbar_ax = fig.add_axes([1., .11, 0.02, 0.515])\n",
    "fig.colorbar(cp, cax=cbar_ax,label=label_KEspec)\n",
    "\n",
    "# wavenumber spectrum\n",
    "ax1.set_xlabel(\"Horizontal wavenumber [cpkm]\")\n",
    "ax1.loglog(ki4320,2*ke_k,linewidth=4,alpha=.5)\n",
    "#ax1.loglog(ki4320,2*ke_k_sub,linewidth=4,alpha=.5)\n",
    "#ax1.loglog(ki4320,2*ke_k_super,linewidth=4,alpha=.5)\n",
    "\n",
    "ax1.set_xlim(1.e-3,1/5./2)\n",
    "ax1.set_ylim(1.e-2,1.e3)\n",
    "ax1.set_yticks([1.e-3,1.e-1,1e1])\n",
    "ax1.set_ylabel(r\"KE density [m$^2$ s$^{-2}$/cpkm]\")\n",
    "kr = np.array([1.e-3,1.])\n",
    "ax1.loglog(kr,kr**-2/2e2,'0.5',linewidth=2)\n",
    "ax1.text(.75e-1,9.5e-1,'-2',fontsize=14)\n",
    "ax1.set_yticks([1.e-3,1.e-1,1e1,1e3])\n",
    "\n",
    "# Frequency spectrum\n",
    "ax2.set_ylabel(\"Frequency [cph]\")\n",
    "ax2.loglog(2*ke_f,f4320,linewidth=4,alpha=.5)\n",
    "ax2.set_xlim(1.e-3,1.e3)\n",
    "ax2.set_ylim(0.,.5)\n",
    "ax2.set_xlabel(r\"KE density [m$^2$ s$^{-2}$/cph]\")\n",
    "ax2.plot([1.e-3,1.e3],[f0,f0],'k--')\n",
    "ax2.plot([1.e-3,1.e3],[m2,m2],'k--')\n",
    "ax2.plot([1.e-3,1.e3],[2*f0,2*f0],'k--') \n",
    "\n",
    "fr = np.array([1.e-3,1.])\n",
    "ax2.loglog(fr**-2/2.5e2,fr,'0.5',linewidth=2)\n",
    "ax2.text(.5e2,1e-2,'-2',fontsize=14)\n",
    "ax2.set_xticks([1.e-3,1.e-1,1e1,1e3])\n",
    "\n",
    "\n",
    "plt.tight_layout()\n",
    "\n",
    "plt.savefig(__figpath__+\"KE_WavenumberFrequency_Spectrum_4320_And_Integrals.pdf\",dpi=100,bbox_inches='tight')"
   ]
  },
  {
   "cell_type": "code",
   "execution_count": null,
   "metadata": {
    "collapsed": false
   },
   "outputs": [],
   "source": [
    "# plot the frame for schematics...\n",
    "fig = plt.figure(figsize=(6.5,5.5))\n",
    "ax = plt.subplot(111)\n",
    "\n",
    "#plt.plot(k,omg_3,'k')\n",
    "ax.set_xscale(\"log\", nonposx='clip')\n",
    "ax.set_yscale(\"log\", nonposx='clip')\n",
    "plt.xlim(1.e-3,1/5./2)\n",
    "\n",
    "# barotropic inertia-gravity waves\n",
    "#plt.plot(k,omg_0)\n",
    "\n",
    "plt.fill_between([1/1000,1./900],1/12.4,1/11.6,color='b',alpha=.25)\n",
    "plt.fill_between([1/1000,1./900],1/24.8,1/23.2,color='b',alpha=.25)\n",
    "\n",
    "ax.annotate(\"Barotropic tides\",\n",
    "            xy=(1/950.,1/12.), xycoords='data',\n",
    "            xytext=(1/700, 1/6.), textcoords='data',fontsize=12,\n",
    "            arrowprops=dict(arrowstyle=\"->\",\n",
    "                            connectionstyle=\"arc3\"),\n",
    "            )\n",
    "ax.annotate(\"                 \",\n",
    "            xy=(1/950.,1/24.), xycoords='data',\n",
    "            xytext=(1/450, 1/6.7), textcoords='data',\n",
    "            arrowprops=dict(arrowstyle=\"->\",\n",
    "                            connectionstyle=\"arc3\"),\n",
    "            )\n",
    "\n",
    "plt.fill_between(k, omg_4, omg_1, facecolor='b',alpha=.15)\n",
    "\n",
    "f0, m2 = 1/22.,1./12.4\n",
    "Ld =  300\n",
    "plt.yticks([0.15*f0,f0,2*m2,10*m2],[r\"$\\approx$6 d\",r\"$\\approx$1 d\", r\"$\\approx$6 h\",r\"$\\approx$1 h\"])\n",
    "plt.xticks([1/1000,1/300,1/100,1/10],[\"1000 km\",\"300 km\",\"100 km\",\"10 km\"])\n",
    "#plt.xlabel(\"Lengh scale \")\n",
    "#plt.ylabel(\"Time scale\")\n",
    "plt.ylim(1/24/15,1.)\n",
    "\n",
    "large = plt.Circle((1/10000, 1/24/20), .0675*f0, color='r',alpha=.25)\n",
    "meso = plt.Circle((1/105, 1/24/5.5), .175*f0, color='m',alpha=.25)\n",
    "submesob = plt.Circle((1/35,.675/24), .52*f0, color='y',alpha=.25)\n",
    "submesou = plt.Circle((1/15,1.75/24), 1.1*f0, color='g',alpha=.25)\n",
    "\n",
    "ax.add_artist(large)\n",
    "ax.add_artist(meso)\n",
    "ax.add_artist(submesob)\n",
    "ax.add_artist(submesou)\n",
    " \n",
    "plt.text(1./72.5,.45,r'            Inertia-gravity waves',fontsize=12,rotation=32)\n",
    "plt.text(1./1000,1/24/10.5,r' Large scale ',fontsize=12,rotation=0)\n",
    "plt.text(1./1000,1/24/14,r' circulation ',fontsize=12,rotation=0)\n",
    "\n",
    "plt.text(1./290,1/24/5.5,r'Mesoscale ',fontsize=12,rotation=20)\n",
    "plt.text(1./260,1/24/6.5,r'    turbulence ',fontsize=12,rotation=21.5)\n",
    "\n",
    "plt.text(1./160,1/24/1.85,r'Geostrophic submesoscale ',fontsize=12,rotation=3)\n",
    "plt.text(1./70,1/24/2.5,r'turbulence',fontsize=12,rotation=5)\n",
    "plt.text(1./45,1/24/.45,r'  Ageostrophic ',fontsize=12,rotation=16)\n",
    "plt.text(1./35,1/24/.56,r'submesoscale',fontsize=12,rotation=16)\n",
    "plt.text(1./25,1/24/.72,r'  turbulence',fontsize=12,rotation=16)\n",
    "\n",
    "ax.spines['top'].set_visible(False)\n",
    "ax.spines['right'].set_visible(False)\n",
    "ax.get_xaxis().tick_bottom()\n",
    "ax.get_yaxis().tick_left()\n",
    "\n",
    "# arrows/labels\n",
    "plt.text(1/40,1/24/13.5,r'$\\Leftarrow$ Length scale',fontsize=14)\n",
    "plt.text(1/900,1/1.25,r'Time scale $\\Downarrow$ ',fontsize=14)\n",
    "\n",
    "plt.savefig(__figpath__+\"KE_Wavenumber-Frequency_Spectrum_frame.pdf\",dpi=100,bbox_inches='tight')"
   ]
  },
  {
   "cell_type": "code",
   "execution_count": null,
   "metadata": {
    "collapsed": false
   },
   "outputs": [],
   "source": [
    "re = 6371e3  # earth's radius\n",
    "omg = 7.95e-5 # earth's rotation\n",
    "latmin,latmax = 20, 40\n",
    "beta_min, beta_max = 2*omg*np.cos(latmin*np.pi/180)/re, 2*omg*np.cos(latmax*np.pi/180)/re\n",
    "\n",
    "romg_1 = (beta_max*k*(rd1_max**2)/(1 + (k*rd1_max)**2))*3600*1e3/2/np.pi  # [cph]"
   ]
  },
  {
   "cell_type": "code",
   "execution_count": null,
   "metadata": {
    "collapsed": false
   },
   "outputs": [],
   "source": [
    "plt.loglog(k,romg_1/f0/2/np.pi)\n",
    "plt.loglog(k,omg_0/f0/2/np.pi)"
   ]
  },
  {
   "cell_type": "code",
   "execution_count": null,
   "metadata": {
    "collapsed": false
   },
   "outputs": [],
   "source": [
    "with plt.xkcd():\n",
    "    # plot the frame for schematics...\n",
    "    fig = plt.figure(figsize=(6.5,5.5))\n",
    "    ax = plt.subplot(111)\n",
    "\n",
    "    #plt.plot(k,omg_3,'k')\n",
    "    ax.set_xscale(\"log\", nonposx='clip')\n",
    "    ax.set_yscale(\"log\", nonposx='clip')\n",
    "    plt.xlim(1.e-3,1/5./2)\n",
    "\n",
    "    # barotropic inertia-gravity waves\n",
    "    #plt.plot(k,omg_0)\n",
    "\n",
    "    plt.fill_between([1/1000,1./900],1/12.4,1/11.6,color='b',alpha=.25)\n",
    "    plt.fill_between([1/1000,1./900],1/24.8,1/23.2,color='b',alpha=.25)\n",
    "\n",
    "    ax.annotate(\"Barotropic tides\",\n",
    "                xy=(1/950.,1/12.), xycoords='data',\n",
    "                xytext=(1/700, 1/6.), textcoords='data',fontsize=12,\n",
    "                arrowprops=dict(arrowstyle=\"->\",\n",
    "                                connectionstyle=\"arc3\"),\n",
    "                )\n",
    "    ax.annotate(\"                 \",\n",
    "                xy=(1/950.,1/24.), xycoords='data',\n",
    "                xytext=(1/450, 1/6.7), textcoords='data',\n",
    "                arrowprops=dict(arrowstyle=\"->\",\n",
    "                                connectionstyle=\"arc3\"),\n",
    "                )\n",
    "\n",
    "    plt.fill_between(k, omg_4, omg_1, facecolor='b',alpha=.15)\n",
    "\n",
    "    f0, m2 = 1/22.,1./12.4\n",
    "    Ld =  300\n",
    "    plt.yticks([0.15*f0,f0,2*m2,10*m2],[r\"$\\approx$6 d\",r\"$\\approx$1 d\", r\"$\\approx$6 h\",r\"$\\approx$1 h\"])\n",
    "    plt.xticks([1/1000,1/300,1/100,1/10],[\"1000 km\",\"300 km\",\"100 km\",\"10 km\"])\n",
    "    #plt.xlabel(\"Lengh scale \")\n",
    "    #plt.ylabel(\"Time scale\")\n",
    "    plt.ylim(1/24/15,1.)\n",
    "\n",
    "    large = plt.Circle((1/10000, 1/24/20), .0675*f0, color='r',alpha=.25)\n",
    "    meso = plt.Circle((1/105, 1/24/5.5), .175*f0, color='m',alpha=.25)\n",
    "    submesob = plt.Circle((1/35,.675/24), .52*f0, color='y',alpha=.25)\n",
    "    submesou = plt.Circle((1/15,1.75/24), 1.1*f0, color='g',alpha=.25)\n",
    "\n",
    "    ax.add_artist(large)\n",
    "    ax.add_artist(meso)\n",
    "    ax.add_artist(submesob)\n",
    "    ax.add_artist(submesou)\n",
    "\n",
    "    plt.text(1./72.5,.45,r'            Inertia-gravity waves',fontsize=12,rotation=32)\n",
    "    plt.text(1./1000,1/24/10.5,r' Large scale ',fontsize=12,rotation=0)\n",
    "    plt.text(1./1000,1/24/14,r' circulation ',fontsize=12,rotation=0)\n",
    "\n",
    "    plt.text(1./290,1/24/5.5,r'Mesoscale ',fontsize=12,rotation=20)\n",
    "    plt.text(1./260,1/24/6.5,r'    turbulence ',fontsize=12,rotation=21.5)\n",
    "\n",
    "    plt.text(1./160,1/24/1.85,r'Geostrophic submesoscale ',fontsize=12,rotation=3)\n",
    "    plt.text(1./70,1/24/2.5,r'turbulence',fontsize=12,rotation=5)\n",
    "    plt.text(1./45,1/24/.45,r'  Ageostrophic ',fontsize=12,rotation=16)\n",
    "    plt.text(1./35,1/24/.56,r'submesoscale',fontsize=12,rotation=16)\n",
    "    plt.text(1./25,1/24/.72,r'  turbulence',fontsize=12,rotation=16)\n",
    "\n",
    "    ax.spines['top'].set_visible(False)\n",
    "    ax.spines['right'].set_visible(False)\n",
    "    ax.get_xaxis().tick_bottom()\n",
    "    ax.get_yaxis().tick_left()\n",
    "    # arrows/labels\n",
    "    plt.text(1/40,1/24/13.5,r'$\\Leftarrow$ Length scale',fontsize=14)\n",
    "    plt.text(1/900,1/1.25,r'Time scale $\\Downarrow$ ',fontsize=14)\n",
    "\n",
    "    # arrows\n",
    "    plt.arrow(1/10, 1/24/30, 1. , 2., head_width=0.05, head_length=0.1, fc='k', ec='k')\n",
    "    \n",
    "    plt.savefig(__figpath__+\"KE_Wavenumber-Frequency_Spectrum_frame_xkcd.pdf\",dpi=100,bbox_inches='tight')"
   ]
  },
  {
   "cell_type": "code",
   "execution_count": null,
   "metadata": {
    "collapsed": false
   },
   "outputs": [],
   "source": []
  },
  {
   "cell_type": "code",
   "execution_count": null,
   "metadata": {
    "collapsed": false
   },
   "outputs": [],
   "source": []
  },
  {
   "cell_type": "code",
   "execution_count": null,
   "metadata": {
    "collapsed": true
   },
   "outputs": [],
   "source": []
  }
 ],
 "metadata": {
  "kernelspec": {
   "display_name": "Python [Root]",
   "language": "python",
   "name": "Python [Root]"
  },
  "language_info": {
   "codemirror_mode": {
    "name": "ipython",
    "version": 3
   },
   "file_extension": ".py",
   "mimetype": "text/x-python",
   "name": "python",
   "nbconvert_exporter": "python",
   "pygments_lexer": "ipython3",
   "version": "3.5.2"
  }
 },
 "nbformat": 4,
 "nbformat_minor": 0
}
